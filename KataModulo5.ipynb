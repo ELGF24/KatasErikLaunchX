{
 "cells": [
  {
   "cell_type": "markdown",
   "metadata": {},
   "source": [
    "\n",
    "# Ejercicio1 - Utilizar operadores aritméticos\n",
    "Operadores aritméticos en Python\n",
    "\n",
    "Python proporciona operadores aritméticos comunes para que puedas realizar operaciones matemáticas en tu código. Estos incluyen las cuatro operaciones principales de suma, resta, multiplicación y división.\n",
    "\n",
    "Exploremos cómo podemos crear un programa que pueda calcular la distancia entre dos planetas. Comenzaremos usando dos distancias de planetas: Tierra (149.597.870 km) y Júpiter (778.547.200 km)."
   ]
  },
  {
   "cell_type": "code",
   "execution_count": 1,
   "metadata": {},
   "outputs": [],
   "source": [
    "\n",
    "\n",
    "# Crear variables para almacenar las dos distancias\n",
    "# ¡Asegúrate de quitar las comas!\n",
    "\n",
    "earth_distance = 149597870\n",
    "jupyter_distance = 778547200"
   ]
  },
  {
   "cell_type": "markdown",
   "metadata": {},
   "source": [
    "\n",
    "### Realizar la operación\n",
    "\n",
    "Con los valores obtenidos, es el momento de añadir el código para realizar la operación. Restarás el primer planeta del segundo para determinar la distancia en kilómetros. A continuación, puedes convertir la distancia del kilómetro en millas multiplicándola por 0.621.\n"
   ]
  },
  {
   "cell_type": "code",
   "execution_count": 5,
   "metadata": {},
   "outputs": [
    {
     "name": "stdout",
     "output_type": "stream",
     "text": [
      "390577533.93\n"
     ]
    }
   ],
   "source": [
    "distance_e_j_km = jupyter_distance - earth_distance\n",
    "\n",
    "distance_e_j_miles = distance_e_j_km * 0.621\n",
    "print(distance_e_j_miles)"
   ]
  },
  {
   "cell_type": "markdown",
   "metadata": {},
   "source": [
    "\n",
    "# Ejercicio 2: convierte cadenas en números y usa valores absolutos\n",
    "Crear una aplicación para trabajar con números y entrada de usuario\n",
    "\n",
    "Con frecuencia, deberás convertir los valores de cadena en números para realizar correctamente diferentes operaciones o determinar el valor absoluto de un número.\n",
    "\n",
    "Para crear nuestra aplicación, queremos leer la distancia del sol para dos planetas, y luego mostrar la distancia entre los planetas. Haremos esto usando input para leer los valores, int para convertir a entero y luego abs para convertir el resultado en su valor absoluto.\n",
    "Lee los valores\n",
    "\n",
    "Usando input, agrega el código para leer la distancia del sol para cada planeta, considerando 2 planetas.\n"
   ]
  },
  {
   "cell_type": "code",
   "execution_count": 6,
   "metadata": {},
   "outputs": [
    {
     "name": "stdout",
     "output_type": "stream",
     "text": [
      "Enter your name: erik\n",
      "Enter the first planet distance: 57900000\n",
      "Enter the second planet distance: 108200000\n",
      "-50300000 -31236300.0\n"
     ]
    }
   ],
   "source": [
    "name = input(\"Enter your name: \")\n",
    "\n",
    "planet_1 = int(input(\"Enter the first planet distance: \"))\n",
    "planet_2 = int(input(\"Enter the second planet distance: \"))\n",
    "\n",
    "distance_km = planet_1 - planet_2\n",
    "distance_miles = distance_km * 0.621\n",
    "\n",
    "print(distance_km, distance_miles)"
   ]
  },
  {
   "cell_type": "code",
   "execution_count": null,
   "metadata": {},
   "outputs": [],
   "source": []
  }
 ],
 "metadata": {
  "interpreter": {
   "hash": "94753b9ccad71f902b83835b1a4e4d862eafa2b15de8fbdd82e969bc70742bae"
  },
  "kernelspec": {
   "display_name": "Python 3 (ipykernel)",
   "language": "python",
   "name": "python3"
  },
  "language_info": {
   "codemirror_mode": {
    "name": "ipython",
    "version": 3
   },
   "file_extension": ".py",
   "mimetype": "text/x-python",
   "name": "python",
   "nbconvert_exporter": "python",
   "pygments_lexer": "ipython3",
   "version": "3.9.7"
  }
 },
 "nbformat": 4,
 "nbformat_minor": 2
}
