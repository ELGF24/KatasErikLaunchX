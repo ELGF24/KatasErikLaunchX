{
 "cells": [
  {
   "cell_type": "markdown",
   "metadata": {},
   "source": [
    "Manejo de errores"
   ]
  },
  {
   "cell_type": "code",
   "execution_count": 18,
   "metadata": {},
   "outputs": [],
   "source": [
    "\n",
    "def open_file(file):\n",
    "    try:\n",
    "        file = open(file, \"r\")\n",
    "        print(file.read())\n",
    "    except FileNotFoundError:\n",
    "        print(\"El archivo que quiere abrir no se ecuentra\")\n",
    "        question = input(f\"Desea crear el archivo-{file} (si/no): \")\n",
    "        if question == 'si':\n",
    "            with open(file, 'w') as fl:\n",
    "                fl.write(\"Archivo creado\")\n",
    "                fl.close()\n",
    "            print(\"El archivo fue creado con exito\")\n",
    "            \n",
    "    finally:\n",
    "        print(\"Gracias\")"
   ]
  },
  {
   "cell_type": "code",
   "execution_count": 20,
   "metadata": {},
   "outputs": [
    {
     "name": "stdout",
     "output_type": "stream",
     "text": [
      "Archivo creado\n",
      "Gracias\n"
     ]
    }
   ],
   "source": [
    "open_file(\"new_test.txt\")"
   ]
  },
  {
   "cell_type": "code",
   "execution_count": 21,
   "metadata": {},
   "outputs": [
    {
     "name": "stdout",
     "output_type": "stream",
     "text": [
      "\n",
      "def open_file(file):\n",
      "    try:\n",
      "        file = open(file, \"r\")\n",
      "        print(file.readlines())\n",
      "    except FileNotFoundError:\n",
      "        print(\"El archivo que quiere abrir no se ecuentra\")\n",
      "        question = input(f\"Desea crear el archivo-{file} (si/no): \")\n",
      "        if question == 'si':\n",
      "            with open(file, 'w') as fl:\n",
      "                fl.write(\"Archivo creado\")\n",
      "                fl.close()\n",
      "            print(\"El archivo fue creado con exito\")\n",
      "            \n",
      "    finally:\n",
      "        print(\"Gracias\")\n",
      "Gracias\n"
     ]
    }
   ],
   "source": [
    "open_file(\"python.txt\")"
   ]
  },
  {
   "cell_type": "markdown",
   "metadata": {},
   "source": [
    "# Generar errores"
   ]
  },
  {
   "cell_type": "code",
   "execution_count": 25,
   "metadata": {},
   "outputs": [],
   "source": [
    "def create_robot(name, axis):\n",
    "    if axis < 1:\n",
    "        raise ValueError(f\"El robot no puede tener grados de libertad menores a 1, usted ingreso {axis} grados de libertad.\")\n",
    "    return f\" {name} - {axis} \""
   ]
  },
  {
   "cell_type": "code",
   "execution_count": 24,
   "metadata": {},
   "outputs": [
    {
     "name": "stdout",
     "output_type": "stream",
     "text": [
      " kuka - 9 \n"
     ]
    }
   ],
   "source": [
    "print(create_robot('kuka', 9))"
   ]
  },
  {
   "cell_type": "code",
   "execution_count": 26,
   "metadata": {},
   "outputs": [
    {
     "ename": "ValueError",
     "evalue": "El robot no puede tener grados de libertad menores a 1, usted ingreso 0 grados de libertad.",
     "output_type": "error",
     "traceback": [
      "\u001b[1;31m---------------------------------------------------------------------------\u001b[0m",
      "\u001b[1;31mValueError\u001b[0m                                Traceback (most recent call last)",
      "\u001b[1;32mc:\\Users\\erikg\\OneDrive\\Escritorio\\ELGF\\MICROSOFT\\Python-Programming\\KataModulo10.ipynb Cell 8'\u001b[0m in \u001b[0;36m<module>\u001b[1;34m\u001b[0m\n\u001b[1;32m----> <a href='vscode-notebook-cell:/c%3A/Users/erikg/OneDrive/Escritorio/ELGF/MICROSOFT/Python-Programming/KataModulo10.ipynb#ch0000012?line=0'>1</a>\u001b[0m \u001b[39mprint\u001b[39m(create_robot(\u001b[39m'\u001b[39;49m\u001b[39mabb\u001b[39;49m\u001b[39m'\u001b[39;49m, \u001b[39m0\u001b[39;49m))\n",
      "\u001b[1;32mc:\\Users\\erikg\\OneDrive\\Escritorio\\ELGF\\MICROSOFT\\Python-Programming\\KataModulo10.ipynb Cell 6'\u001b[0m in \u001b[0;36mcreate_robot\u001b[1;34m(name, axis)\u001b[0m\n\u001b[0;32m      <a href='vscode-notebook-cell:/c%3A/Users/erikg/OneDrive/Escritorio/ELGF/MICROSOFT/Python-Programming/KataModulo10.ipynb#ch0000010?line=0'>1</a>\u001b[0m \u001b[39mdef\u001b[39;00m \u001b[39mcreate_robot\u001b[39m(name, axis):\n\u001b[0;32m      <a href='vscode-notebook-cell:/c%3A/Users/erikg/OneDrive/Escritorio/ELGF/MICROSOFT/Python-Programming/KataModulo10.ipynb#ch0000010?line=1'>2</a>\u001b[0m     \u001b[39mif\u001b[39;00m axis \u001b[39m<\u001b[39m \u001b[39m1\u001b[39m:\n\u001b[1;32m----> <a href='vscode-notebook-cell:/c%3A/Users/erikg/OneDrive/Escritorio/ELGF/MICROSOFT/Python-Programming/KataModulo10.ipynb#ch0000010?line=2'>3</a>\u001b[0m         \u001b[39mraise\u001b[39;00m \u001b[39mValueError\u001b[39;00m(\u001b[39mf\u001b[39m\u001b[39m\"\u001b[39m\u001b[39mEl robot no puede tener grados de libertad menores a 1, usted ingreso \u001b[39m\u001b[39m{\u001b[39;00maxis\u001b[39m}\u001b[39;00m\u001b[39m grados de libertad.\u001b[39m\u001b[39m\"\u001b[39m)\n\u001b[0;32m      <a href='vscode-notebook-cell:/c%3A/Users/erikg/OneDrive/Escritorio/ELGF/MICROSOFT/Python-Programming/KataModulo10.ipynb#ch0000010?line=3'>4</a>\u001b[0m     \u001b[39mreturn\u001b[39;00m \u001b[39mf\u001b[39m\u001b[39m\"\u001b[39m\u001b[39m \u001b[39m\u001b[39m{\u001b[39;00mname\u001b[39m}\u001b[39;00m\u001b[39m - \u001b[39m\u001b[39m{\u001b[39;00maxis\u001b[39m}\u001b[39;00m\u001b[39m \u001b[39m\u001b[39m\"\u001b[39m\n",
      "\u001b[1;31mValueError\u001b[0m: El robot no puede tener grados de libertad menores a 1, usted ingreso 0 grados de libertad."
     ]
    }
   ],
   "source": [
    "print(create_robot('abb', 0))"
   ]
  },
  {
   "cell_type": "code",
   "execution_count": null,
   "metadata": {},
   "outputs": [],
   "source": []
  }
 ],
 "metadata": {
  "interpreter": {
   "hash": "bbeeaec577d98a852fe52cd1e84f8d147cd5509d62c4e633baacb0deb982a94d"
  },
  "kernelspec": {
   "display_name": "Python 3.10.1 ('venv': venv)",
   "language": "python",
   "name": "python3"
  },
  "language_info": {
   "codemirror_mode": {
    "name": "ipython",
    "version": 3
   },
   "file_extension": ".py",
   "mimetype": "text/x-python",
   "name": "python",
   "nbconvert_exporter": "python",
   "pygments_lexer": "ipython3",
   "version": "3.10.1"
  },
  "orig_nbformat": 4
 },
 "nbformat": 4,
 "nbformat_minor": 2
}
