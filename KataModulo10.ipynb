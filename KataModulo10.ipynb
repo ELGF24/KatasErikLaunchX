{
 "cells": [
  {
   "cell_type": "markdown",
   "metadata": {},
   "source": [
    "Manejo de errores"
   ]
  },
  {
   "cell_type": "code",
   "execution_count": 1,
   "metadata": {},
   "outputs": [],
   "source": [
    "\n",
    "def open_file(file):\n",
    "    try:\n",
    "        file = open(file, \"r\")\n",
    "        print(file.read())\n",
    "    except FileNotFoundError:\n",
    "        print(\"El archivo que quiere abrir no se ecuentra\")\n",
    "        question = input(f\"Desea crear el archivo-{file} (si/no): \")\n",
    "        if question == 'si':\n",
    "            with open(file, 'w') as fl:\n",
    "                fl.write(\"Archivo creado\")\n",
    "                fl.close()\n",
    "            print(\"El archivo fue creado con exito\")\n",
    "            \n",
    "    finally:\n",
    "        print(\"Gracias\")"
   ]
  },
  {
   "cell_type": "code",
   "execution_count": 2,
   "metadata": {},
   "outputs": [
    {
     "name": "stdout",
     "output_type": "stream",
     "text": [
      "Archivo creado\n",
      "Gracias\n"
     ]
    }
   ],
   "source": [
    "open_file(\"new_test.txt\")"
   ]
  },
  {
   "cell_type": "code",
   "execution_count": 3,
   "metadata": {},
   "outputs": [
    {
     "name": "stdout",
     "output_type": "stream",
     "text": [
      "\n",
      "def open_file(file):\n",
      "    try:\n",
      "        file = open(file, \"r\")\n",
      "        print(file.readlines())\n",
      "    except FileNotFoundError:\n",
      "        print(\"El archivo que quiere abrir no se ecuentra\")\n",
      "        question = input(f\"Desea crear el archivo-{file} (si/no): \")\n",
      "        if question == 'si':\n",
      "            with open(file, 'w') as fl:\n",
      "                fl.write(\"Archivo creado\")\n",
      "                fl.close()\n",
      "            print(\"El archivo fue creado con exito\")\n",
      "            \n",
      "    finally:\n",
      "        print(\"Gracias\")\n",
      "Gracias\n"
     ]
    }
   ],
   "source": [
    "open_file(\"python.txt\")"
   ]
  },
  {
   "cell_type": "markdown",
   "metadata": {},
   "source": [
    "# Generar errores"
   ]
  },
  {
   "cell_type": "code",
   "execution_count": null,
   "metadata": {},
   "outputs": [],
   "source": [
    "def create_robot(name, axis):\n",
    "    if axis < 1:\n",
    "        raise ValueError(f\"El robot no puede tener grados de libertad menores a 1, usted ingreso {axis} grados de libertad.\")\n",
    "    return f\" {name} - {axis} \""
   ]
  },
  {
   "cell_type": "code",
   "execution_count": null,
   "metadata": {},
   "outputs": [],
   "source": [
    "print(create_robot('kuka', 9))"
   ]
  },
  {
   "cell_type": "code",
   "execution_count": null,
   "metadata": {},
   "outputs": [],
   "source": [
    "print(create_robot('abb', 0))"
   ]
  },
  {
   "cell_type": "code",
   "execution_count": null,
   "metadata": {},
   "outputs": [],
   "source": []
  }
 ],
 "metadata": {
  "interpreter": {
   "hash": "bbeeaec577d98a852fe52cd1e84f8d147cd5509d62c4e633baacb0deb982a94d"
  },
  "kernelspec": {
   "display_name": "Python 3.10.1 ('venv': venv)",
   "language": "python",
   "name": "python3"
  },
  "language_info": {
   "codemirror_mode": {
    "name": "ipython",
    "version": 3
   },
   "file_extension": ".py",
   "mimetype": "text/x-python",
   "name": "python",
   "nbconvert_exporter": "python",
   "pygments_lexer": "ipython3",
   "version": "3.10.1"
  },
  "orig_nbformat": 4
 },
 "nbformat": 4,
 "nbformat_minor": 2
}
