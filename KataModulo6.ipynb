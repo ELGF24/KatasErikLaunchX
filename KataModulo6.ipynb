{
 "cells": [
  {
   "cell_type": "markdown",
   "id": "5dda4121",
   "metadata": {},
   "source": [
    "\n",
    "# Ejercicio1: Crear y usar listas de Python\n",
    "Ejercicio: Usar listas para almacenar nombres de planetas\n",
    "\n",
    "Las listas permiten almacenar varios valores en una sola variable. Comenzarás un proyecto sobre información planetaria creando una lista de planetas.\n",
    "\n",
    "    TIP Dedica unos minutos para tratar de encontrar una solución. Luego desplázate hacia abajo hasta la parte inferior para ver si has logrado compilar el programa de acuerdo con las especificaciones\n",
    "\n",
    "En primer lugar, crea una variable denominada planets. Agrega los ocho planetas (sin Plutón) a la lista. A continuación, muestra el número de planetas.\n"
   ]
  },
  {
   "cell_type": "code",
   "execution_count": 1,
   "id": "cf493ee5",
   "metadata": {},
   "outputs": [],
   "source": [
    "planets = [\"mercury\", \"venus\", \"earth\", \"mars\", \"jupyter\", \"saturn\", \"uranus\", \"neptune\"]"
   ]
  },
  {
   "cell_type": "markdown",
   "id": "b8e2fcd2",
   "metadata": {},
   "source": [
    "\n",
    "\n",
    "Agrega a Plutón a la lista que creaste. Luego muestra tanto el número de planetas como el último planeta de la lista.\n"
   ]
  },
  {
   "cell_type": "code",
   "execution_count": 2,
   "id": "1e74390f",
   "metadata": {},
   "outputs": [],
   "source": [
    "planets.append(\"pluto\")"
   ]
  },
  {
   "cell_type": "markdown",
   "id": "85b6a4f2",
   "metadata": {},
   "source": [
    "\n",
    "# Ejercicio 2: Trabajando con datos de una lista\n",
    "Usar slices para recuperar partes de una lista\n",
    "\n",
    "Es posible que debas trabajar con diferentes secciones de una lista. En nuestro ejemplo, queremos mostrar planetas más cerca y más lejos del sol de un planeta que el usuario ingresa por teclado.\n",
    "\n",
    "Comienza agregando el código para crear una lista con los planetas.\n"
   ]
  },
  {
   "cell_type": "code",
   "execution_count": 3,
   "id": "ec50cef3",
   "metadata": {},
   "outputs": [],
   "source": [
    "# Lista de planetas\n",
    "planets = [\"mercury\", \"venus\", \"earth\", \"mars\", \"jupyter\", \"saturn\", \"uranus\", \"neptune\"]"
   ]
  },
  {
   "cell_type": "markdown",
   "id": "95f66a6d",
   "metadata": {},
   "source": [
    "\n",
    "Solicita al usuario el nombre de un planeta\n",
    "\n",
    "A continuación, agrega el código para solicitar al usuario un nombre. Debido a que las cadenas distinguen entre mayúsculas y minúsculas en Python, pídale al usuario que use una letra mayúscula para comenzar el nombre del planeta.\n"
   ]
  },
  {
   "cell_type": "code",
   "execution_count": 11,
   "id": "5640e45f",
   "metadata": {},
   "outputs": [
    {
     "name": "stdout",
     "output_type": "stream",
     "text": [
      "Enter your planet's name: earth\n",
      "Planet at index: 2\n"
     ]
    }
   ],
   "source": [
    "user_planet = input(\"Enter your planet's name: \")\n",
    "try:\n",
    "    print(f\"Planet at index: {planets.index(user_planet.capitalize())}\")\n",
    "except:\n",
    "    print(\"Not found\")"
   ]
  },
  {
   "cell_type": "markdown",
   "id": "876a1560",
   "metadata": {},
   "source": [
    "\n",
    "### Mostrar planetas más cercanos al sol que el que el usuario ingresó\n",
    "\n",
    "Con el índice determinado, ahora puedes agregar el código para mostrar los planetas más cercanos al sol.\n"
   ]
  },
  {
   "cell_type": "code",
   "execution_count": 13,
   "id": "f392b341",
   "metadata": {},
   "outputs": [
    {
     "name": "stdout",
     "output_type": "stream",
     "text": [
      "Enter your planet's name: earth\n",
      "Planetas cercanos al sol: ['Mercury', 'Venus']\n"
     ]
    }
   ],
   "source": [
    "user_planet = input(\"Enter your planet's name: \").capitalize()\n",
    "\n",
    "print(f\"Planetas cercanos al sol: {planets[0:planets.index(user_planet)]}\")"
   ]
  },
  {
   "cell_type": "markdown",
   "id": "3519ca25",
   "metadata": {},
   "source": [
    "\n",
    "### Mostrar planetas más alejados del sol que el que el usuario ingresó\n",
    "\n",
    "Puedes usar el mismo índice para mostrar planetas más alejados del sol. Sin embargo, recuerda que el índice inicial se incluye cuando usas un slice. Como resultado, tendrás que agregar 1 al valor. Agrega el código para mostrar los planetas más alejados del sol.\n"
   ]
  },
  {
   "cell_type": "code",
   "execution_count": 14,
   "id": "70514a99",
   "metadata": {},
   "outputs": [
    {
     "name": "stdout",
     "output_type": "stream",
     "text": [
      "Enter your planet's name: earth\n",
      "Planetas mas alejados del sol: ['Earth', 'Mars', 'Jupiter', 'Saturn', 'Neptune']\n"
     ]
    }
   ],
   "source": [
    "user_planet = input(\"Enter your planet's name: \").capitalize()\n",
    "\n",
    "print(f\"Planetas mas alejados del sol: {planets[planets.index(user_planet):]}\")"
   ]
  },
  {
   "cell_type": "code",
   "execution_count": null,
   "id": "f66cb253",
   "metadata": {},
   "outputs": [],
   "source": []
  }
 ],
 "metadata": {
  "kernelspec": {
   "display_name": "Python 3 (ipykernel)",
   "language": "python",
   "name": "python3"
  },
  "language_info": {
   "codemirror_mode": {
    "name": "ipython",
    "version": 3
   },
   "file_extension": ".py",
   "mimetype": "text/x-python",
   "name": "python",
   "nbconvert_exporter": "python",
   "pygments_lexer": "ipython3",
   "version": "3.9.7"
  }
 },
 "nbformat": 4,
 "nbformat_minor": 5
}
