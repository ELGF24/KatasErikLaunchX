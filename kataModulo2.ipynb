{
 "cells": [
  {
   "cell_type": "markdown",
   "id": "8debba66",
   "metadata": {},
   "source": [
    "# Ejercicio - Crear un paquete"
   ]
  },
  {
   "cell_type": "markdown",
   "id": "7b85ea78",
   "metadata": {},
   "source": [
    "## Crear un entorno virtual\n",
    "<code>\n",
    "    python -m venv venv\n",
    "</code>\n",
    "\n",
    "## Para activar el entorno virtual es:\n",
    "<code>\n",
    "    source venv/Scripts/activate\n",
    "</code>\n",
    "\n",
    "### Para revisar que modulos estan instalados es con el comando\n",
    "<code>\n",
    "    pip freeze\n",
    "</code>\n",
    "\n",
    "## Para desactivar el entorno virtual es\n",
    "<code>\n",
    "    deactivate\n",
    "</code>"
   ]
  },
  {
   "cell_type": "code",
   "execution_count": null,
   "id": "e820e90b",
   "metadata": {},
   "outputs": [],
   "source": []
  }
 ],
 "metadata": {
  "kernelspec": {
   "display_name": "Python 3 (ipykernel)",
   "language": "python",
   "name": "python3"
  },
  "language_info": {
   "codemirror_mode": {
    "name": "ipython",
    "version": 3
   },
   "file_extension": ".py",
   "mimetype": "text/x-python",
   "name": "python",
   "nbconvert_exporter": "python",
   "pygments_lexer": "ipython3",
   "version": "3.9.7"
  }
 },
 "nbformat": 4,
 "nbformat_minor": 5
}
