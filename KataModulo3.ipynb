{
 "cells": [
  {
   "cell_type": "markdown",
   "id": "b2f33d27",
   "metadata": {},
   "source": [
    "# Ejercicio - Escribir declaraciones if, else, y elif\n",
    "\n",
    "Para este ejercicio, escribirás una lógica condicional que imprima una advertencia si un asteroide se acerca a la Tierra demasiado rápido. La velocidad del asteroide varía dependiendo de lo cerca que esté del sol, y cualquier velocidad superior a 25 kilómetros por segundo (km/s) merece una advertencia.\n",
    "\n",
    "Un asteroide se acerca, y viaja a una velocidad de 49 km/s."
   ]
  },
  {
   "cell_type": "code",
   "execution_count": 1,
   "id": "c26af407",
   "metadata": {},
   "outputs": [
    {
     "name": "stdout",
     "output_type": "stream",
     "text": [
      "El asteroide se acerca demasiado rapido\n"
     ]
    }
   ],
   "source": [
    "# Añadir el código necesario para crear una variable que guarde la velocidad del asteroide.\n",
    "# Escribe una expresión de prueba para calcular si necesita una advertencia.\n",
    "# Agregue las instrucciones que se ejecutarán si la expresión de prueba es true o false.\n",
    "\n",
    "asteroide_velocidad = 49\n",
    "velocidad_maxima = 25\n",
    "\n",
    "if asteroide_velocidad > velocidad_maxima: \n",
    "    print(\"El asteroide se acerca demasiado rapido\")\n",
    "else: \n",
    "    print(\"El asteroide tiene una velocidad normal\")"
   ]
  },
  {
   "cell_type": "markdown",
   "id": "0d62a16b",
   "metadata": {},
   "source": [
    "Si un asteroide entra en la atmósfera de la Tierra a una velocidad mayor o igual a 20 km/s, a veces produce un rayo de luz que se puede ver desde la Tierra. Escribe la lógica condicional que usa declaraciones if, else, y elif para alertar a las personas de todo el mundo que deben buscar un asteroide en el cielo. ¡Hay uno que se dirige a la tierra ahora a una velocidad de 19 km/s!"
   ]
  },
  {
   "cell_type": "code",
   "execution_count": 2,
   "id": "5561e3a9",
   "metadata": {},
   "outputs": [
    {
     "name": "stdout",
     "output_type": "stream",
     "text": [
      "El asteroide tiene una velocidad normal\n"
     ]
    }
   ],
   "source": [
    "# Agrega el código para crear una variable para un asteroide que viaja a 19 km/s\n",
    "# Escribe varias expresiones de prueba para determinar si puedes ver el rayo de luz desde la tierra\n",
    "# Agrega las instrucciones que se ejecutarán si las expresiones de prueba son True o False\n",
    "\n",
    "asteroide_velocidad = 19\n",
    "velocidad_atm = 20\n",
    "\n",
    "if asteroide_velocidad >= velocidad_atm:\n",
    "    print(\"Mira el rayo de luz que produjo el asteroide\")\n",
    "else:\n",
    "    print(\"El asteroide tiene una velocidad normal\")"
   ]
  },
  {
   "cell_type": "markdown",
   "id": "894491aa",
   "metadata": {},
   "source": [
    "# Ejercicio: Uso de operadores and y or\n",
    "En este ejercicio, aprenderás información más matizada sobre cuándo los asteroides representan un peligro para la Tierra, y utilizarás esa información para mejorar nuestro sistema de advertencia. Aquí está la nueva información que necesitas saber:\n",
    "\n",
    "*Los asteroides de menos de 25 metros en su dimensión más grande probablemente se quemarán a medida que entren en la atmósfera de la Tierra.\n",
    "\n",
    "    Si una pieza de un asteroide que es más grande que 25 metros pero más pequeña que 1000 metros golpeara la Tierra, causaría mucho daño.\n",
    "\n",
    "También discutimos en el ejercicio anterior que:\n",
    "\n",
    "    La velocidad del asteroide varía en función de lo cerca que esté del sol, y cualquier velocidad superior a 25 kilómetros por segundo (km/s) merece una advertencia.\n",
    "    Si un asteroide entra en la atmósfera de la Tierra a una velocidad mayor o igual a 20 km/s, a veces produce un rayo de luz que se puede ver desde la Tierra.\n",
    "\n",
    "Usando toda esta información, escribe un programa que emita la advertencia o información correcta a la gente de la Tierra, según la velocidad y el tamaño de un asteroide. Utiliza instrucciones if, else, y elif, así como los operadores and y or."
   ]
  },
  {
   "cell_type": "code",
   "execution_count": null,
   "id": "8f1f0c2e",
   "metadata": {},
   "outputs": [],
   "source": [
    "# Agrega el código para crear nuevas variables para la velocidad y el tamaño del asteroide\n",
    "# Para probar el código, prueba con varias velocidades y tamaños\n",
    "# Escribe varias expresiones de prueba o combinaciones de expresiones de prueba para determinar \n",
    "#      qué mensaje se debe enviar a Tierra.\n",
    "\n",
    "asteroide_velocidad = 28\n",
    "asteroide_tamanio = 26\n",
    "asteroide_tamanio_max = 25\n",
    "velocidad_atm = 20\n",
    "\n",
    "if asteroide_velocidad > 25 and asteroide_tamanio > asteroide_tamanio_max:\n",
    "    print(\"El asteroide que se dirige a la tierra es peligroso\")\n",
    "elif asteroide_tamanio < asteroide_tamanio_max:\n",
    "    print(\"El asteroide no es de gran tamanio\")\n",
    "elif asteroide_velocidad >= velocidad_atm and asteroide_tamanio < asteroide_tamanio_max:\n",
    "    print(\"Mira el rayo de luz que produjo el asteroide\")\n",
    "else:\n",
    "    print(\"El asteroide tiene una velocidad normal\")"
   ]
  },
  {
   "cell_type": "code",
   "execution_count": null,
   "id": "8af26dee",
   "metadata": {},
   "outputs": [],
   "source": []
  }
 ],
 "metadata": {
  "kernelspec": {
   "display_name": "Python 3 (ipykernel)",
   "language": "python",
   "name": "python3"
  },
  "language_info": {
   "codemirror_mode": {
    "name": "ipython",
    "version": 3
   },
   "file_extension": ".py",
   "mimetype": "text/x-python",
   "name": "python",
   "nbconvert_exporter": "python",
   "pygments_lexer": "ipython3",
   "version": "3.10.1"
  }
 },
 "nbformat": 4,
 "nbformat_minor": 5
}
