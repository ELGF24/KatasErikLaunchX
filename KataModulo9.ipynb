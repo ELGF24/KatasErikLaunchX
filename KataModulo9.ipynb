{
 "cells": [
  {
   "cell_type": "markdown",
   "metadata": {},
   "source": [
    "\n",
    "# Ejercicio: Uso de funciones en Python\n",
    "Ejercicio 1: Trabajar con argumentos en funciones"
   ]
  },
  {
   "cell_type": "code",
   "execution_count": 2,
   "metadata": {},
   "outputs": [
    {
     "name": "stdout",
     "output_type": "stream",
     "text": [
      "Fuel report: 45.333333333333336\n"
     ]
    }
   ],
   "source": [
    "# Comienza por crear una función que necesite tres lecturas de combustible y devuelva un informe:\n",
    "# Función para leer 3 tanques de combustible y muestre el promedio\n",
    "def fuel_average(tank1, tank2, tank3):\n",
    "    average = (tank1 + tank2 + tank3) / 3\n",
    "    return f\"Fuel report: {average}\"\n",
    "\n",
    "# Llamamos a la función que genera el reporte print(funcion(tanque1, tanque2, tanque3))\n",
    "print(fuel_average(45, 15, 76))"
   ]
  },
  {
   "cell_type": "markdown",
   "metadata": {},
   "source": [
    "\n",
    "Ejercicio 2: Trabajo con argumentos de palabra clave\n",
    "Ejercicio : Trabajar con argumentos de palabras clave en funciones\n",
    "\n",
    "En este ejercicio, construirás un informe de cohete que requiere varias piezas de información, como el tiempo hasta el destino, el combustible a la izquierda y el nombre del destino. Comienza por crear una función que creará un informe preciso de la misión:\n"
   ]
  },
  {
   "cell_type": "code",
   "execution_count": 3,
   "metadata": {},
   "outputs": [],
   "source": [
    "# Función con un informe preciso de la misión. Considera hora de prelanzamiento, tiempo de vuelo, destino, tanque externo y tanque interno\n",
    "def rocket(time_destiny, left_tank, destiny_name):\n",
    "    return f\"\"\"\n",
    "        Destiny: {destiny_name}\n",
    "            - time to get to: {destiny_name} - {time_destiny} hours\n",
    "            - left tank fuel: {left_tank} lts\n",
    "    \"\"\""
   ]
  },
  {
   "cell_type": "code",
   "execution_count": 4,
   "metadata": {},
   "outputs": [
    {
     "name": "stdout",
     "output_type": "stream",
     "text": [
      "\n",
      "        Destiny: Mars\n",
      "            - time to get to: Mars - 1259 hours\n",
      "            - left tank fuel: 87954 lts\n",
      "    \n"
     ]
    }
   ],
   "source": [
    "print(rocket(1259, 87954, \"Mars\"))"
   ]
  },
  {
   "cell_type": "code",
   "execution_count": null,
   "metadata": {},
   "outputs": [],
   "source": []
  }
 ],
 "metadata": {
  "interpreter": {
   "hash": "fc1619e0afbc0b2046db8b0ff57742481208c79bb1d54f19a31f04817df39b8b"
  },
  "kernelspec": {
   "display_name": "Python 3.10.1 64-bit",
   "language": "python",
   "name": "python3"
  },
  "language_info": {
   "codemirror_mode": {
    "name": "ipython",
    "version": 3
   },
   "file_extension": ".py",
   "mimetype": "text/x-python",
   "name": "python",
   "nbconvert_exporter": "python",
   "pygments_lexer": "ipython3",
   "version": "3.10.1"
  },
  "orig_nbformat": 4
 },
 "nbformat": 4,
 "nbformat_minor": 2
}
